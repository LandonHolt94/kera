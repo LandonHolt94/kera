{
 "cells": [
  {
   "cell_type": "code",
   "execution_count": 1,
   "metadata": {},
   "outputs": [
    {
     "name": "stdout",
     "output_type": "stream",
     "text": [
      "pygame 2.5.2 (SDL 2.28.3, Python 3.7.16)\n",
      "Hello from the pygame community. https://www.pygame.org/contribute.html\n"
     ]
    }
   ],
   "source": [
    "import pygame, sys\n",
    "from pygame.locals import *\n",
    "from tensorflow.keras.models import load_model\n",
    "from tensorflow.keras.datasets import mnist\n",
    "from tensorflow.keras.utils import to_categorical\n",
    "import numpy as np\n",
    "from tensorflow.keras.preprocessing.image import load_img, img_to_array"
   ]
  },
  {
   "cell_type": "code",
   "execution_count": 2,
   "metadata": {},
   "outputs": [],
   "source": [
    "def load_dataset():\n",
    "    (X_train, y_train), (X_test, y_test) = mnist.load_data()\n",
    "    X_train = X_train.reshape((X_train.shape[0], 28, 28, 1)).astype('float32')\n",
    "    X_test = X_test.reshape((X_test.shape[0], 28, 28, 1)).astype('float32')\n",
    "    X_train = X_train / 255.0\n",
    "    X_test = X_test / 255.0\n",
    "    y_train = to_categorical(y_train)\n",
    "    y_test = to_categorical(y_test)\n",
    "    return X_train, X_test, y_train, y_test"
   ]
  },
  {
   "cell_type": "code",
   "execution_count": 3,
   "metadata": {},
   "outputs": [],
   "source": [
    "model = load_model('digitRecognizer.h5')"
   ]
  },
  {
   "cell_type": "code",
   "execution_count": 4,
   "metadata": {},
   "outputs": [
    {
     "name": "stdout",
     "output_type": "stream",
     "text": [
      "Test Loss: 0.0229, Test Accuracy: 99.24%\n"
     ]
    }
   ],
   "source": [
    "X_train, X_test, y_train, y_test = load_dataset()\n",
    "loss, accuracy = model.evaluate(X_test, y_test, verbose=0)\n",
    "print(f\"Test Loss: {loss:.4f}, Test Accuracy: {accuracy:.2%}\")"
   ]
  },
  {
   "cell_type": "code",
   "execution_count": 5,
   "metadata": {},
   "outputs": [],
   "source": [
    "def load_new_image(path):\n",
    "    newImage = load_img(path, color_mode='grayscale', target_size=(28, 28))\n",
    "    newImage = img_to_array(newImage)\n",
    "    newImage = newImage.reshape(1, 28, 28, 1)  # Reshape for the model\n",
    "    newImage = newImage / 255.0\n",
    "    return newImage"
   ]
  },
  {
   "cell_type": "code",
   "execution_count": 6,
   "metadata": {},
   "outputs": [],
   "source": [
    "def test_model_performance(path):\n",
    "    img = load_new_image(path)\n",
    "    predictions = model.predict(img)\n",
    "    predicted_class = np.argmax(predictions, axis=-1)\n",
    "    print(f'Predicted class: {predicted_class[0]}')"
   ]
  },
  {
   "cell_type": "code",
   "execution_count": 7,
   "metadata": {},
   "outputs": [
    {
     "ename": "SystemExit",
     "evalue": "",
     "output_type": "error",
     "traceback": [
      "An exception has occurred, use %tb to see the full traceback.\n",
      "\u001b[1;31mSystemExit\u001b[0m\n"
     ]
    },
    {
     "name": "stderr",
     "output_type": "stream",
     "text": [
      "c:\\Users\\lando\\anaconda3\\envs\\Test\\lib\\site-packages\\IPython\\core\\interactiveshell.py:3465: UserWarning: To exit: use 'exit', 'quit', or Ctrl-D.\n",
      "  warn(\"To exit: use 'exit', 'quit', or Ctrl-D.\", stacklevel=1)\n"
     ]
    }
   ],
   "source": [
    "import pygame, sys\n",
    "from pygame.locals import *\n",
    "import numpy as np\n",
    "from tensorflow.keras.models import load_model\n",
    "from tensorflow.keras.utils import to_categorical\n",
    "from tensorflow.keras.datasets import mnist\n",
    "\n",
    "# Constants\n",
    "WINDOWSIZEX = 640\n",
    "WINDOWSIZEY = 480\n",
    "WHITE = (255, 255, 255)\n",
    "BLACK = (0, 0, 0)\n",
    "RED = (255, 0, 0)\n",
    "\n",
    "# Initialize Pygame\n",
    "pygame.init()\n",
    "pygame.font.init()\n",
    "FONT = pygame.font.Font(None, 32)\n",
    "DISPLAYSURF = pygame.display.set_mode((WINDOWSIZEX, WINDOWSIZEY))\n",
    "pygame.display.set_caption('Digit Recognizer')\n",
    "\n",
    "# Load and prepare model\n",
    "model = load_model('digitRecognizer.h5')\n",
    "model.compile(optimizer='adam', loss='categorical_crossentropy', metrics=['accuracy'])\n",
    "\n",
    "# Load dataset (for demonstration or testing purposes)\n",
    "def load_dataset():\n",
    "    (X_train, y_train), (X_test, y_test) = mnist.load_data()\n",
    "    X_train = X_train.reshape((X_train.shape[0], 28, 28, 1)) / 255.0\n",
    "    X_test = X_test.reshape((X_test.shape[0], 28, 28, 1)) / 255.0\n",
    "    y_train = to_categorical(y_train)\n",
    "    y_test = to_categorical(y_test)\n",
    "    return X_train, X_test, y_train, y_test\n",
    "\n",
    "def resize_image(image):\n",
    "    image_surface = pygame.surfarray.make_surface(image.swapaxes(0, 1))\n",
    "    image_surface = pygame.transform.smoothscale(image_surface, (28, 28))\n",
    "    image_array = pygame.surfarray.array3d(image_surface)\n",
    "    grayscale_image = np.dot(image_array[...,:3], [0.2989, 0.5870, 0.1140]) / 255.0\n",
    "    return grayscale_image.reshape(1, 28, 28, 1)\n",
    "\n",
    "# Event handling\n",
    "is_writing = False\n",
    "number_xcord = []\n",
    "number_ycord = []\n",
    "\n",
    "while True:\n",
    "    for event in pygame.event.get():\n",
    "        if event.type == QUIT:\n",
    "            pygame.quit()\n",
    "            sys.exit()\n",
    "        if event.type == MOUSEMOTION and is_writing:\n",
    "            xcord, ycord = event.pos\n",
    "            pygame.draw.circle(DISPLAYSURF, WHITE, (xcord, ycord), 4)\n",
    "            number_xcord.append(xcord)\n",
    "            number_ycord.append(ycord)\n",
    "        if event.type == MOUSEBUTTONDOWN:\n",
    "            is_writing = True\n",
    "        if event.type == MOUSEBUTTONUP:\n",
    "            is_writing = False\n",
    "            if number_xcord and number_ycord:\n",
    "                min_x = max(min(number_xcord) - 10, 0)\n",
    "                max_x = min(max(number_xcord) + 10, WINDOWSIZEX)\n",
    "                min_y = max(min(number_ycord) - 10, 0)\n",
    "                max_y = min(max(number_ycord) + 10, WINDOWSIZEY)\n",
    "                number_xcord, number_ycord = [], []\n",
    "                img_arr = pygame.surfarray.array3d(DISPLAYSURF)[min_x:max_x, min_y:max_y]\n",
    "                img_arr = resize_image(img_arr)\n",
    "                prediction = model.predict(img_arr)\n",
    "                label = np.argmax(prediction)\n",
    "                text_surface = FONT.render(str(label), True, RED, WHITE)\n",
    "                text_rect = text_surface.get_rect(center=(min_x + (max_x - min_x) // 2, max_y + 20))\n",
    "                DISPLAYSURF.blit(text_surface, text_rect)\n",
    "        if event.type == KEYDOWN:\n",
    "            if event.unicode == 'n':\n",
    "                DISPLAYSURF.fill(BLACK)\n",
    "\n",
    "    pygame.display.update()"
   ]
  }
 ],
 "metadata": {
  "kernelspec": {
   "display_name": "Test",
   "language": "python",
   "name": "python3"
  },
  "language_info": {
   "codemirror_mode": {
    "name": "ipython",
    "version": 3
   },
   "file_extension": ".py",
   "mimetype": "text/x-python",
   "name": "python",
   "nbconvert_exporter": "python",
   "pygments_lexer": "ipython3",
   "version": "3.7.16"
  }
 },
 "nbformat": 4,
 "nbformat_minor": 2
}
