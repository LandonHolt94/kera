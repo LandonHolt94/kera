{
 "cells": [
  {
   "cell_type": "code",
   "execution_count": 1,
   "metadata": {},
   "outputs": [],
   "source": [
    "import numpy as np\n",
    "from tensorflow.keras.datasets import mnist\n",
    "from tensorflow.keras.utils import to_categorical\n",
    "from tensorflow.keras.models import Sequential\n",
    "from tensorflow.keras.layers import Dense, Conv2D, Flatten, MaxPooling2D, Dropout\n",
    "from tensorflow.keras.preprocessing.image import load_img, img_to_array\n",
    "from tensorflow.keras.models import load_model"
   ]
  },
  {
   "cell_type": "code",
   "execution_count": 2,
   "metadata": {},
   "outputs": [],
   "source": [
    "def load_dataset():\n",
    "    (X_train, y_train), (X_test, y_test) = mnist.load_data()\n",
    "    X_train = X_train.reshape((X_train.shape[0], 28, 28, 1)).astype('float32')\n",
    "    X_test = X_test.reshape((X_test.shape[0], 28, 28, 1)).astype('float32')\n",
    "    X_train = X_train / 255.0\n",
    "    X_test = X_test / 255.0\n",
    "    y_train = to_categorical(y_train)\n",
    "    y_test = to_categorical(y_test)\n",
    "    return X_train, X_test, y_train, y_test"
   ]
  },
  {
   "cell_type": "code",
   "execution_count": 3,
   "metadata": {},
   "outputs": [],
   "source": [
    "def digit_recognition_cnn():\n",
    "    model = Sequential([\n",
    "        Conv2D(32, kernel_size=3, activation='relu', input_shape=(28, 28, 1)),\n",
    "        MaxPooling2D(pool_size=2),\n",
    "        Dropout(0.2),\n",
    "        Conv2D(64, kernel_size=3, activation='relu'),\n",
    "        MaxPooling2D(pool_size=2),\n",
    "        Dropout(0.2),\n",
    "        Flatten(),\n",
    "        Dense(100, activation='relu'),\n",
    "        Dropout(0.5),\n",
    "        Dense(10, activation='softmax')\n",
    "    ])\n",
    "    model.compile(optimizer='adam', loss='categorical_crossentropy', metrics=['accuracy'])\n",
    "    return model"
   ]
  },
  {
   "cell_type": "code",
   "execution_count": 4,
   "metadata": {},
   "outputs": [
    {
     "name": "stdout",
     "output_type": "stream",
     "text": [
      "Epoch 1/10\n",
      "469/469 - 10s - loss: 0.3697 - accuracy: 0.8853 - val_loss: 0.0720 - val_accuracy: 0.9771\n",
      "Epoch 2/10\n",
      "469/469 - 11s - loss: 0.1244 - accuracy: 0.9632 - val_loss: 0.0463 - val_accuracy: 0.9857\n",
      "Epoch 3/10\n",
      "469/469 - 12s - loss: 0.0976 - accuracy: 0.9709 - val_loss: 0.0369 - val_accuracy: 0.9880\n",
      "Epoch 4/10\n",
      "469/469 - 13s - loss: 0.0832 - accuracy: 0.9754 - val_loss: 0.0318 - val_accuracy: 0.9893\n",
      "Epoch 5/10\n",
      "469/469 - 14s - loss: 0.0702 - accuracy: 0.9786 - val_loss: 0.0314 - val_accuracy: 0.9903\n",
      "Epoch 6/10\n",
      "469/469 - 13s - loss: 0.0635 - accuracy: 0.9812 - val_loss: 0.0300 - val_accuracy: 0.9896\n",
      "Epoch 7/10\n",
      "469/469 - 13s - loss: 0.0564 - accuracy: 0.9837 - val_loss: 0.0242 - val_accuracy: 0.9915\n",
      "Epoch 8/10\n",
      "469/469 - 13s - loss: 0.0534 - accuracy: 0.9840 - val_loss: 0.0240 - val_accuracy: 0.9920\n",
      "Epoch 9/10\n",
      "469/469 - 13s - loss: 0.0487 - accuracy: 0.9856 - val_loss: 0.0250 - val_accuracy: 0.9914\n",
      "Epoch 10/10\n",
      "469/469 - 13s - loss: 0.0464 - accuracy: 0.9857 - val_loss: 0.0229 - val_accuracy: 0.9924\n"
     ]
    },
    {
     "data": {
      "text/plain": [
       "<tensorflow.python.keras.callbacks.History at 0x1d7305b0ec8>"
      ]
     },
     "execution_count": 4,
     "metadata": {},
     "output_type": "execute_result"
    }
   ],
   "source": [
    "X_train, X_test, y_train, y_test = load_dataset()\n",
    "model = digit_recognition_cnn()\n",
    "model.fit(X_train, y_train, epochs=10, batch_size=128, verbose=2, validation_data=(X_test, y_test))"
   ]
  },
  {
   "cell_type": "code",
   "execution_count": 5,
   "metadata": {},
   "outputs": [
    {
     "name": "stdout",
     "output_type": "stream",
     "text": [
      "Model Accuracy: 99.24%\n"
     ]
    }
   ],
   "source": [
    "loss, accuracy = model.evaluate(X_test, y_test, verbose=0)\n",
    "print(f'Model Accuracy: {accuracy * 100:.2f}%')"
   ]
  },
  {
   "cell_type": "code",
   "execution_count": 6,
   "metadata": {},
   "outputs": [],
   "source": [
    "model.save('digitRecognizer.h5')"
   ]
  },
  {
   "cell_type": "code",
   "execution_count": 7,
   "metadata": {},
   "outputs": [],
   "source": [
    "def load_new_image(path):\n",
    "    newImage = load_img(path, color_mode='grayscale', target_size=(28, 28))\n",
    "    newImage = img_to_array(newImage)\n",
    "    newImage = newImage.reshape(1, 28, 28, 1)\n",
    "    newImage = newImage / 255.0\n",
    "    return newImage\n",
    "\n",
    "def test_model_performance(path):\n",
    "    img = load_new_image(path)\n",
    "    model = load_model('digitRecognizer.h5')\n",
    "    predictions = model.predict(img)\n",
    "    predicted_class = np.argmax(predictions, axis=-1)  # Updated line\n",
    "    print(f'Predicted class: {predicted_class[0]}')"
   ]
  },
  {
   "cell_type": "code",
   "execution_count": 8,
   "metadata": {},
   "outputs": [
    {
     "name": "stdout",
     "output_type": "stream",
     "text": [
      "Predicted class: 5\n"
     ]
    }
   ],
   "source": [
    "test_model_performance('sample_images\\Test_image.png')"
   ]
  }
 ],
 "metadata": {
  "kernelspec": {
   "display_name": "Test",
   "language": "python",
   "name": "python3"
  },
  "language_info": {
   "codemirror_mode": {
    "name": "ipython",
    "version": 3
   },
   "file_extension": ".py",
   "mimetype": "text/x-python",
   "name": "python",
   "nbconvert_exporter": "python",
   "pygments_lexer": "ipython3",
   "version": "3.7.16"
  }
 },
 "nbformat": 4,
 "nbformat_minor": 2
}
